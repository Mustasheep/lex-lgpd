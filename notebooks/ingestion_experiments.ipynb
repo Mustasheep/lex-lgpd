{
 "cells": [
  {
   "cell_type": "code",
   "execution_count": 54,
   "id": "6e08f531",
   "metadata": {},
   "outputs": [],
   "source": [
    "import requests\n",
    "from bs4 import BeautifulSoup\n",
    "import logging\n",
    "import re\n",
    "import os"
   ]
  },
  {
   "cell_type": "code",
   "execution_count": null,
   "id": "ea223332",
   "metadata": {},
   "outputs": [],
   "source": [
    "# Estabelecendo variáveis universais e header\n",
    "URL = \"https://www.planalto.gov.br/ccivil_03/_ato2015-2018/2018/lei/l13709.htm\"\n",
    "RAW_DATA_PATH = os.path.join (\"..\", \"data\", \"raw\", \"lgpd_raw_.txt\")\n",
    "\n",
    "headers = {\n",
    "    'User-Agent': 'Mozilla/5.0 (Windows NT 10.0; Win64; x64) AppleWebKit/537.36 (KHTML, like Gecko) Chrome/138.0.0.0 Safari/537.36 Edg/138.0.0.0',\n",
    "}"
   ]
  },
  {
   "cell_type": "code",
   "execution_count": 8,
   "id": "79c415b4",
   "metadata": {},
   "outputs": [
    {
     "name": "stdout",
     "output_type": "stream",
     "text": [
      "Acesso bem sucedido!\n"
     ]
    }
   ],
   "source": [
    "# Tentando obter resposta da URL\n",
    "try:\n",
    "    response = requests.get(URL, headers=headers)\n",
    "    response.raise_for_status()\n",
    "    print(\"Acesso bem sucedido!\")\n",
    "except Exception as e:\n",
    "    print(f\"Falha ao acessar a URL, erro: {e}\")"
   ]
  },
  {
   "cell_type": "code",
   "execution_count": null,
   "id": "8f240848",
   "metadata": {},
   "outputs": [],
   "source": [
    "# Estabelecendo o parser para html\n",
    "soup = BeautifulSoup(response.content, 'html.parser')\n"
   ]
  },
  {
   "cell_type": "code",
   "execution_count": 58,
   "id": "216f0ee3",
   "metadata": {},
   "outputs": [
    {
     "name": "stdout",
     "output_type": "stream",
     "text": [
      "Extração bem sucedida\n"
     ]
    }
   ],
   "source": [
    "# Extraindo o texto alvo\n",
    "lista_de_artigos = \"\"\n",
    "try:\n",
    "    lista_de_artigos = soup.select('p.Artigo')\n",
    "    \n",
    "    if type(lista_de_artigos) != type(None):\n",
    "        print(f\"Extração bem sucedida\")\n",
    "    else:\n",
    "        print(\"O texto não foi extraído e o resultado foi 'Nulo'\")\n",
    "        \n",
    "except Exception as e:\n",
    "    print(f\"Erro na extração: {e}\")\n"
   ]
  },
  {
   "cell_type": "code",
   "execution_count": 53,
   "id": "a40d1f8b",
   "metadata": {},
   "outputs": [
    {
     "name": "stdout",
     "output_type": "stream",
     "text": [
      "Artigos encontrados. Preparando uma lista...\n",
      "\n",
      "Lista de artigos criada com sucesso: 412 artigos foram listados\n"
     ]
    }
   ],
   "source": [
    "# Por ser uma página mais antiga, é necessário alguns usos específicos de HTML\n",
    "texto_bruto = []\n",
    "if lista_de_artigos:\n",
    "    print(f\"Artigos encontrados. Preparando uma lista...\\n\")\n",
    "    \n",
    "    for i, artigo_tag in enumerate(lista_de_artigos):\n",
    "        # .get_text(strip=True) remove espaços em branco extras do início e do fim\n",
    "        texto_do_artigo = artigo_tag.get_text(strip=True)\n",
    "        texto_bruto.append(texto_do_artigo)\n",
    "    print(f\"Lista de artigos criada com sucesso: {len(lista_de_artigos)} artigos foram listados\")\n",
    "else:\n",
    "    print(\"Nenhum parágrafo com a classe 'Artigo' foi encontrado.\")"
   ]
  },
  {
   "cell_type": "code",
   "execution_count": 48,
   "id": "bf37fb92",
   "metadata": {},
   "outputs": [
    {
     "data": {
      "text/plain": [
       "['II - multa simples, de até 2% (dois por cento) do faturamento da pessoa jurídica de direito privado, grupo ou conglomerado no Brasil no seu último exercício, excluídos os tributos, limitada, no total, a R$ 50.000.000,00 (cinquenta milhőes de reais) por infraçăo;',\n",
       " 'III - multa diária, observado o limite total a que se refere o inciso II;',\n",
       " 'IV - publicizaçăo da infraçăo após devidamente apurada e confirmada a sua ocorręncia;',\n",
       " 'V - bloqueio dos dados pessoais a que se refere a infraçăo até a sua regularizaçăo;',\n",
       " 'VI - eliminaçăo dos dados pessoais a que se refere a infraçăo;',\n",
       " 'VII - (VETADO);',\n",
       " 'VIII - (VETADO);',\n",
       " 'IX - (VETADO).',\n",
       " '§ 1ş As sançőes serăo aplicadas após procedimento administrativo que possibilite a oportunidade da ampla defesa, de forma gradativa, isolada ou cumulativa, de acordo com as peculiaridades do caso concreto e considerados os seguintes parâmetros e critérios:',\n",
       " 'I - a gravidade e a natureza das infraçőes e dos direitos pessoais afetados;',\n",
       " 'II - a boa-fé do infrator;',\n",
       " 'III - a vantagem auferida ou pretendida pelo infrator;',\n",
       " 'IV - a condiçăo econômica do infrator;',\n",
       " 'V - a reincidęncia;',\n",
       " 'VI - o grau do dano;',\n",
       " 'VII - a cooperaçăo do infrator;',\n",
       " 'VIII - a adoçăo reiterada e demonstrada de mecanismos e procedimentos internos capazes de minimizar o dano, voltados ao tratamento seguro e adequado de dados, em consonância com o disposto no inciso II do § 2ş do art. 48 desta Lei;',\n",
       " 'IX - a adoçăo de política de boas práticas e governança;',\n",
       " 'X - a pronta adoçăo de medidas corretivas; e',\n",
       " 'XI - a proporcionalidade entre a gravidade da falta e a intensidade da sançăo.']"
      ]
     },
     "execution_count": 48,
     "metadata": {},
     "output_type": "execute_result"
    }
   ],
   "source": [
    "texto_bruto[350:370]"
   ]
  },
  {
   "cell_type": "markdown",
   "id": "682bce0a",
   "metadata": {},
   "source": [
    "O site do Planalto, por razões históricas e de transparência, mantém o texto de artigos que foram revogados ou alterados, mas os exibe com um risco no meio (usando a tag `<strike>` ou um estilo CSS). Isso acaba com versões duplicadas ou triplicadas do mesmo artigo, uma versão antiga riscada(inválida) e a nova (válida), criando uma enorme confusão para o nosso modelo de IA."
   ]
  }
 ],
 "metadata": {
  "kernelspec": {
   "display_name": ".venv",
   "language": "python",
   "name": "python3"
  },
  "language_info": {
   "codemirror_mode": {
    "name": "ipython",
    "version": 3
   },
   "file_extension": ".py",
   "mimetype": "text/x-python",
   "name": "python",
   "nbconvert_exporter": "python",
   "pygments_lexer": "ipython3",
   "version": "3.12.7"
  }
 },
 "nbformat": 4,
 "nbformat_minor": 5
}
