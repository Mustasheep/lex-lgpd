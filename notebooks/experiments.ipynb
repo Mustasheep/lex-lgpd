{
 "cells": [
  {
   "cell_type": "markdown",
   "id": "715f8944",
   "metadata": {},
   "source": [
    "### 1. Extração dos dados\n",
    "\n",
    "O texto com os artigos da lei LGPD serão extraídos do site Planalto, em uma versão compilada."
   ]
  },
  {
   "cell_type": "code",
   "execution_count": null,
   "id": "6e08f531",
   "metadata": {},
   "outputs": [],
   "source": [
    "import requests\n",
    "from bs4 import BeautifulSoup\n",
    "import os"
   ]
  },
  {
   "cell_type": "code",
   "execution_count": 17,
   "id": "ea223332",
   "metadata": {},
   "outputs": [],
   "source": [
    "# Estabelecendo variáveis universais e header\n",
    "URL = \"https://www.planalto.gov.br/ccivil_03/_ato2015-2018/2018/lei/L13709compilado.htm\"\n",
    "RAW_DATA_PATH = os.path.join (\"..\", \"data\", \"raw\", \"lgpd_raw.txt\")\n",
    "\n",
    "headers = {\n",
    "    'User-Agent': 'Mozilla/5.0 (Windows NT 10.0; Win64; x64) AppleWebKit/537.36 (KHTML, like Gecko) Chrome/138.0.0.0 Safari/537.36 Edg/138.0.0.0',\n",
    "}"
   ]
  },
  {
   "cell_type": "code",
   "execution_count": 24,
   "id": "79c415b4",
   "metadata": {},
   "outputs": [
    {
     "name": "stdout",
     "output_type": "stream",
     "text": [
      "Acesso bem sucedido!\n"
     ]
    }
   ],
   "source": [
    "# Tentando obter resposta da URL\n",
    "try:\n",
    "    response = requests.get(URL, headers=headers)\n",
    "    response.raise_for_status()\n",
    "    print(\"Acesso bem sucedido!\")\n",
    "except Exception as e:\n",
    "    print(f\"Falha ao acessar a URL, erro: {e}\")"
   ]
  },
  {
   "cell_type": "code",
   "execution_count": 25,
   "id": "8f240848",
   "metadata": {},
   "outputs": [],
   "source": [
    "# Estabelecendo o parser para html\n",
    "soup = BeautifulSoup(response.content, 'html.parser')\n",
    "\n",
    "# Encoding utilizado pelo site\n",
    "response.encoding = 'windows-1252'"
   ]
  },
  {
   "cell_type": "code",
   "execution_count": 26,
   "id": "216f0ee3",
   "metadata": {},
   "outputs": [
    {
     "name": "stdout",
     "output_type": "stream",
     "text": [
      "Extração bem sucedida\n"
     ]
    }
   ],
   "source": [
    "# Extraindo o texto alvo\n",
    "lista_de_artigos = \"\"\n",
    "try:\n",
    "    lista_de_artigos = soup.select('p.Artigo, p.MsoNormal')\n",
    "    \n",
    "    if type(lista_de_artigos) != type(None):\n",
    "        print(f\"Extração bem sucedida\")\n",
    "    else:\n",
    "        print(\"O texto não foi extraído e o resultado foi 'Nulo'\")\n",
    "        \n",
    "except Exception as e:\n",
    "    print(f\"Erro na extração: {e}\")\n"
   ]
  },
  {
   "cell_type": "code",
   "execution_count": null,
   "id": "a40d1f8b",
   "metadata": {},
   "outputs": [
    {
     "name": "stdout",
     "output_type": "stream",
     "text": [
      "Artigos encontrados. Preparando uma lista...\n",
      "\n",
      "Lista de artigos criada com sucesso: 396 artigos foram listados\n"
     ]
    }
   ],
   "source": [
    "# Por ser uma página mais antiga, é necessário alguns usos específicos de HTML\n",
    "texto_bruto = []\n",
    "if lista_de_artigos:\n",
    "    print(f\"Artigos encontrados. Preparando uma lista...\\n\")\n",
    "    \n",
    "    for i, artigo_tag in enumerate(lista_de_artigos):\n",
    "        texto_do_artigo = artigo_tag.get_text(strip=True)\n",
    "        texto_bruto.append(texto_do_artigo)\n",
    "    print(f\"Lista de artigos criada com sucesso: {len(lista_de_artigos)} artigos foram listados\")\n",
    "else:\n",
    "    print(\"Nenhum parágrafo com a classe 'Artigo' foi encontrado.\")"
   ]
  },
  {
   "cell_type": "code",
   "execution_count": 28,
   "id": "bf37fb92",
   "metadata": {},
   "outputs": [
    {
     "data": {
      "text/plain": [
       "['§ 4ş No cálculo do valor da multa de que trata o inciso II docaputdeste artigo, a autoridade nacional poderá considerar o faturamento total da empresa ou grupo de empresas, quando năo dispuser do valor do faturamento no ramo de atividade empresarial em que ocorreu a infraçăo, definido pela autoridade nacional, ou quando o valor for apresentado de forma incompleta ou năo for demonstrado de forma inequívoca e idônea.',\n",
       " 'Art. 53. A autoridade nacional definirá, por meio de regulamento próprio sobre sançőes administrativas a infraçőes a esta Lei, que deverá ser objeto de consulta pública, as metodologias que orientarăo o cálculo do valor-base das sançőes de multa.(Vigęncia)',\n",
       " '§ 1ş As metodologias a que se refere ocaputdeste artigo devem ser previamente publicadas, para cięncia dos agentes de tratamento, e devem apresentar objetivamente as formas e dosimetrias para o cálculo do valor-base das sançőes de multa, que deverăo conter fundamentaçăo detalhada de todos os seus elementos, demonstrando a observância dos critérios previstos nesta Lei.',\n",
       " '§ 2ş O regulamento de sançőes e metodologias correspondentes deve estabelecer as circunstâncias e as condiçőes para a adoçăo de multa simples ou diária.',\n",
       " 'Art. 54. O valor da sançăo de multa diária aplicável ŕs infraçőes a esta Lei deve observar a gravidade da falta e a extensăo do dano ou prejuízo causado e ser fundamentado pela autoridade nacional.(Vigęncia)',\n",
       " 'Parágrafo único. A intimaçăo da sançăo de multa diária deverá conter, no mínimo, a descriçăo da obrigaçăo imposta, o prazo razoável e estipulado pelo órgăo para o seu cumprimento e o valor da multa diária a ser aplicada pelo seu descumprimento.',\n",
       " 'CAPÍTULO IXDA AUTORIDADE NACIONAL DE PROTEÇĂO DE DADOS (ANPD) E DO CONSELHO NACIONAL DE PROTEÇĂO DE DADOS PESSOAIS E DA PRIVACIDADE',\n",
       " 'Seçăo IDa Autoridade Nacional de Proteçăo de Dados (ANPD)',\n",
       " 'Art. 55. (VETADO).',\n",
       " 'Art. 55-B.(Revogado pela Lei nş 14.460, de 2022)',\n",
       " 'Art. 56. (VETADO).',\n",
       " 'Art. 57.(VETADO).',\n",
       " 'Seçăo IIDo Conselho Nacional de Proteçăo de Dados Pessoais e da Privacidade',\n",
       " 'Art. 58. (VETADO).',\n",
       " 'Art. 59. (VETADO).',\n",
       " 'CAPÍTULO XDISPOSIÇŐES FINAIS E TRANSITÓRIAS',\n",
       " 'Art. 60. ALei nş 12.965, de 23 de abril de 2014 (Marco Civil da Internet), passa a vigorar com as seguintes alteraçőes:',\n",
       " '“Art. 7ş ..................................................................',\n",
       " '.......................................................................................',\n",
       " 'X - exclusăo definitiva dos dados pessoais que tiver fornecido a determinada aplicaçăo de internet, a seu requerimento, ao término da relaçăo entre as partes, ressalvadas as hipóteses de guarda obrigatória de registros previstas nesta Lei e na que dispőe sobre a proteçăo de dados pessoais;']"
      ]
     },
     "execution_count": 28,
     "metadata": {},
     "output_type": "execute_result"
    }
   ],
   "source": [
    "texto_bruto[350:370]"
   ]
  },
  {
   "cell_type": "code",
   "execution_count": 31,
   "id": "3075e13c",
   "metadata": {},
   "outputs": [],
   "source": [
    "# Convertendo lista para string para salvar com write\n",
    "lgpd_raw = ' '.join(texto_bruto)\n",
    "\n",
    "with open(RAW_DATA_PATH, 'w', encoding='utf-8') as f:\n",
    "    f.write(lgpd_raw)"
   ]
  },
  {
   "cell_type": "markdown",
   "id": "b23f0a12",
   "metadata": {},
   "source": [
    "Essa primeira etapa está concluída. A reestruturação do código será feita para criar um script de extração do texto."
   ]
  },
  {
   "cell_type": "markdown",
   "id": "2b2f7868",
   "metadata": {},
   "source": [
    "---\n",
    "\n",
    "### 2. Processamento\n",
    "\n",
    "Transformar o arquivo lgpd_raw.txt (único bloco de texto longo e com ruídos) em uma lista de \"fragmentos de conhecimento\" (chunks) limpos, estruturados e significativos.\n"
   ]
  },
  {
   "cell_type": "code",
   "execution_count": null,
   "id": "8e9569ea",
   "metadata": {},
   "outputs": [],
   "source": [
    "import spacy\n",
    "import re"
   ]
  },
  {
   "cell_type": "code",
   "execution_count": 7,
   "id": "82e7d7a7",
   "metadata": {},
   "outputs": [
    {
     "name": "stdout",
     "output_type": "stream",
     "text": [
      "Collecting pt-core-news-lg==3.8.0\n",
      "  Downloading https://github.com/explosion/spacy-models/releases/download/pt_core_news_lg-3.8.0/pt_core_news_lg-3.8.0-py3-none-any.whl (568.2 MB)\n",
      "     ---------------------------------------- 0.0/568.2 MB ? eta -:--:--\n",
      "     ---------------------------------------- 0.0/568.2 MB ? eta -:--:--\n",
      "     ---------------------------------------- 0.3/568.2 MB ? eta -:--:--\n",
      "     ---------------------------------------- 0.8/568.2 MB 2.2 MB/s eta 0:04:14\n",
      "     ---------------------------------------- 2.4/568.2 MB 4.6 MB/s eta 0:02:03\n",
      "     ---------------------------------------- 3.4/568.2 MB 4.7 MB/s eta 0:02:01\n",
      "     ---------------------------------------- 6.0/568.2 MB 6.3 MB/s eta 0:01:30\n",
      "      --------------------------------------- 7.6/568.2 MB 6.6 MB/s eta 0:01:25\n",
      "      --------------------------------------- 9.4/568.2 MB 6.9 MB/s eta 0:01:21\n",
      "      -------------------------------------- 11.3/568.2 MB 7.2 MB/s eta 0:01:18\n",
      "      -------------------------------------- 13.1/568.2 MB 7.3 MB/s eta 0:01:16\n",
      "     - ------------------------------------- 14.9/568.2 MB 7.5 MB/s eta 0:01:15\n",
      "     - ------------------------------------- 16.8/568.2 MB 7.6 MB/s eta 0:01:14\n",
      "     - ------------------------------------- 18.6/568.2 MB 7.6 MB/s eta 0:01:13\n",
      "     - ------------------------------------- 20.4/568.2 MB 7.7 MB/s eta 0:01:11\n",
      "     - ------------------------------------- 22.3/568.2 MB 7.8 MB/s eta 0:01:11\n",
      "     - ------------------------------------- 24.1/568.2 MB 7.8 MB/s eta 0:01:10\n",
      "     - ------------------------------------- 26.0/568.2 MB 7.9 MB/s eta 0:01:09\n",
      "     - ------------------------------------- 27.5/568.2 MB 7.9 MB/s eta 0:01:09\n",
      "     -- ------------------------------------ 29.4/568.2 MB 7.9 MB/s eta 0:01:08\n",
      "     -- ------------------------------------ 31.2/568.2 MB 7.9 MB/s eta 0:01:08\n",
      "     -- ------------------------------------ 32.8/568.2 MB 8.0 MB/s eta 0:01:08\n",
      "     -- ------------------------------------ 34.6/568.2 MB 7.9 MB/s eta 0:01:08\n",
      "     -- ------------------------------------ 35.9/568.2 MB 7.9 MB/s eta 0:01:08\n",
      "     -- ------------------------------------ 37.7/568.2 MB 7.9 MB/s eta 0:01:07\n",
      "     -- ------------------------------------ 39.3/568.2 MB 7.9 MB/s eta 0:01:07\n",
      "     -- ------------------------------------ 41.2/568.2 MB 7.9 MB/s eta 0:01:07\n",
      "     -- ------------------------------------ 42.7/568.2 MB 7.9 MB/s eta 0:01:07\n",
      "     --- ----------------------------------- 44.3/568.2 MB 7.9 MB/s eta 0:01:07\n",
      "     --- ----------------------------------- 46.1/568.2 MB 7.9 MB/s eta 0:01:07\n",
      "     --- ----------------------------------- 48.0/568.2 MB 7.9 MB/s eta 0:01:06\n",
      "     --- ----------------------------------- 49.8/568.2 MB 7.9 MB/s eta 0:01:06\n",
      "     --- ----------------------------------- 51.6/568.2 MB 7.9 MB/s eta 0:01:06\n",
      "     --- ----------------------------------- 53.5/568.2 MB 8.0 MB/s eta 0:01:05\n",
      "     --- ----------------------------------- 55.3/568.2 MB 8.0 MB/s eta 0:01:05\n",
      "     --- ----------------------------------- 57.4/568.2 MB 8.0 MB/s eta 0:01:04\n",
      "     ---- ---------------------------------- 59.2/568.2 MB 8.0 MB/s eta 0:01:04\n",
      "     ---- ---------------------------------- 60.8/568.2 MB 8.0 MB/s eta 0:01:04\n",
      "     ---- ---------------------------------- 62.4/568.2 MB 8.1 MB/s eta 0:01:03\n",
      "     ---- ---------------------------------- 64.5/568.2 MB 8.1 MB/s eta 0:01:03\n",
      "     ---- ---------------------------------- 65.3/568.2 MB 8.1 MB/s eta 0:01:02\n",
      "     ---- ---------------------------------- 65.3/568.2 MB 8.1 MB/s eta 0:01:02\n",
      "     ---- ---------------------------------- 65.3/568.2 MB 8.1 MB/s eta 0:01:02\n",
      "     ---- ---------------------------------- 65.3/568.2 MB 8.1 MB/s eta 0:01:02\n",
      "     ---- ---------------------------------- 65.3/568.2 MB 8.1 MB/s eta 0:01:02\n",
      "     ----- --------------------------------- 75.8/568.2 MB 8.2 MB/s eta 0:01:01\n",
      "     ----- --------------------------------- 80.7/568.2 MB 8.5 MB/s eta 0:00:58\n",
      "     ----- --------------------------------- 86.2/568.2 MB 8.9 MB/s eta 0:00:55\n",
      "     ------ -------------------------------- 91.8/568.2 MB 9.3 MB/s eta 0:00:52\n",
      "     ------ -------------------------------- 97.0/568.2 MB 9.6 MB/s eta 0:00:50\n",
      "     ------ ------------------------------- 102.0/568.2 MB 9.9 MB/s eta 0:00:48\n",
      "     ------ ------------------------------ 107.0/568.2 MB 10.2 MB/s eta 0:00:46\n",
      "     ------- ----------------------------- 112.2/568.2 MB 10.5 MB/s eta 0:00:44\n",
      "     ------- ----------------------------- 117.7/568.2 MB 10.8 MB/s eta 0:00:42\n",
      "     -------- ---------------------------- 122.9/568.2 MB 11.0 MB/s eta 0:00:41\n",
      "     -------- ---------------------------- 128.5/568.2 MB 11.3 MB/s eta 0:00:39\n",
      "     -------- ---------------------------- 134.0/568.2 MB 11.6 MB/s eta 0:00:38\n",
      "     --------- --------------------------- 139.2/568.2 MB 11.8 MB/s eta 0:00:37\n",
      "     --------- --------------------------- 144.2/568.2 MB 12.0 MB/s eta 0:00:36\n",
      "     --------- --------------------------- 149.4/568.2 MB 12.3 MB/s eta 0:00:35\n",
      "     ---------- -------------------------- 154.9/568.2 MB 12.5 MB/s eta 0:00:34\n",
      "     ---------- -------------------------- 160.2/568.2 MB 12.7 MB/s eta 0:00:33\n",
      "     ---------- -------------------------- 165.7/568.2 MB 12.9 MB/s eta 0:00:32\n",
      "     ----------- ------------------------- 170.9/568.2 MB 13.1 MB/s eta 0:00:31\n",
      "     ----------- ------------------------- 176.2/568.2 MB 13.3 MB/s eta 0:00:30\n",
      "     ----------- ------------------------- 181.7/568.2 MB 13.5 MB/s eta 0:00:29\n",
      "     ------------ ------------------------ 186.6/568.2 MB 13.6 MB/s eta 0:00:28\n",
      "     ------------ ------------------------ 191.9/568.2 MB 13.8 MB/s eta 0:00:28\n",
      "     ------------ ------------------------ 197.1/568.2 MB 14.0 MB/s eta 0:00:27\n",
      "     ------------- ----------------------- 202.6/568.2 MB 14.1 MB/s eta 0:00:26\n",
      "     ------------- ----------------------- 208.1/568.2 MB 14.3 MB/s eta 0:00:26\n",
      "     ------------- ----------------------- 213.1/568.2 MB 14.4 MB/s eta 0:00:25\n",
      "     -------------- ---------------------- 218.6/568.2 MB 14.6 MB/s eta 0:00:24\n",
      "     -------------- ---------------------- 223.9/568.2 MB 14.8 MB/s eta 0:00:24\n",
      "     -------------- ---------------------- 229.1/568.2 MB 14.9 MB/s eta 0:00:23\n",
      "     --------------- --------------------- 234.1/568.2 MB 15.0 MB/s eta 0:00:23\n",
      "     --------------- --------------------- 238.6/568.2 MB 15.1 MB/s eta 0:00:22\n",
      "     --------------- --------------------- 243.8/568.2 MB 15.2 MB/s eta 0:00:22\n",
      "     ---------------- -------------------- 249.0/568.2 MB 15.4 MB/s eta 0:00:21\n",
      "     ---------------- -------------------- 254.5/568.2 MB 15.5 MB/s eta 0:00:21\n",
      "     ---------------- -------------------- 259.0/568.2 MB 15.6 MB/s eta 0:00:20\n",
      "     ----------------- ------------------- 265.3/568.2 MB 16.2 MB/s eta 0:00:19\n",
      "     ----------------- ------------------- 270.5/568.2 MB 16.5 MB/s eta 0:00:18\n",
      "     ----------------- ------------------- 275.8/568.2 MB 17.0 MB/s eta 0:00:18\n",
      "     ------------------ ------------------ 280.5/568.2 MB 17.4 MB/s eta 0:00:17\n",
      "     ------------------ ------------------ 284.7/568.2 MB 17.7 MB/s eta 0:00:17\n",
      "     ------------------ ------------------ 288.9/568.2 MB 18.0 MB/s eta 0:00:16\n",
      "     ------------------- ----------------- 293.3/568.2 MB 18.4 MB/s eta 0:00:15\n",
      "     ------------------- ----------------- 297.5/568.2 MB 18.9 MB/s eta 0:00:15\n",
      "     ------------------- ----------------- 302.0/568.2 MB 19.3 MB/s eta 0:00:14\n",
      "     ------------------- ----------------- 307.0/568.2 MB 20.0 MB/s eta 0:00:14\n",
      "     -------------------- ---------------- 312.0/568.2 MB 20.6 MB/s eta 0:00:13\n",
      "     -------------------- ---------------- 317.5/568.2 MB 21.3 MB/s eta 0:00:12\n",
      "     --------------------- --------------- 322.7/568.2 MB 22.1 MB/s eta 0:00:12\n",
      "     --------------------- --------------- 328.2/568.2 MB 25.0 MB/s eta 0:00:10\n",
      "     --------------------- --------------- 333.4/568.2 MB 24.5 MB/s eta 0:00:10\n",
      "     ---------------------- -------------- 338.7/568.2 MB 24.3 MB/s eta 0:00:10\n",
      "     ---------------------- -------------- 344.2/568.2 MB 24.3 MB/s eta 0:00:10\n",
      "     ---------------------- -------------- 349.4/568.2 MB 24.3 MB/s eta 0:00:10\n",
      "     ----------------------- ------------- 354.9/568.2 MB 24.3 MB/s eta 0:00:09\n",
      "     ----------------------- ------------- 360.2/568.2 MB 24.3 MB/s eta 0:00:09\n",
      "     ----------------------- ------------- 365.2/568.2 MB 24.3 MB/s eta 0:00:09\n",
      "     ------------------------ ------------ 370.7/568.2 MB 24.3 MB/s eta 0:00:09\n",
      "     ------------------------ ------------ 375.9/568.2 MB 24.3 MB/s eta 0:00:08\n",
      "     ------------------------ ------------ 381.4/568.2 MB 24.3 MB/s eta 0:00:08\n",
      "     ------------------------- ----------- 386.4/568.2 MB 24.3 MB/s eta 0:00:08\n",
      "     ------------------------- ----------- 391.6/568.2 MB 24.2 MB/s eta 0:00:08\n",
      "     ------------------------- ----------- 397.1/568.2 MB 24.2 MB/s eta 0:00:08\n",
      "     -------------------------- ---------- 402.4/568.2 MB 24.2 MB/s eta 0:00:07\n",
      "     -------------------------- ---------- 407.9/568.2 MB 24.2 MB/s eta 0:00:07\n",
      "     -------------------------- ---------- 413.1/568.2 MB 24.3 MB/s eta 0:00:07\n",
      "     --------------------------- --------- 418.4/568.2 MB 24.2 MB/s eta 0:00:07\n",
      "     --------------------------- --------- 423.9/568.2 MB 24.2 MB/s eta 0:00:06\n",
      "     --------------------------- --------- 429.1/568.2 MB 24.2 MB/s eta 0:00:06\n",
      "     ---------------------------- -------- 434.6/568.2 MB 24.2 MB/s eta 0:00:06\n",
      "     ---------------------------- -------- 439.9/568.2 MB 24.2 MB/s eta 0:00:06\n",
      "     ----------------------------- ------- 445.4/568.2 MB 24.2 MB/s eta 0:00:06\n",
      "     ----------------------------- ------- 450.6/568.2 MB 24.3 MB/s eta 0:00:05\n",
      "     ----------------------------- ------- 455.9/568.2 MB 24.3 MB/s eta 0:00:05\n",
      "     ------------------------------ ------ 461.4/568.2 MB 24.3 MB/s eta 0:00:05\n",
      "     ------------------------------ ------ 466.9/568.2 MB 24.3 MB/s eta 0:00:05\n",
      "     ------------------------------ ------ 471.9/568.2 MB 24.3 MB/s eta 0:00:04\n",
      "     ------------------------------- ----- 477.1/568.2 MB 24.3 MB/s eta 0:00:04\n",
      "     ------------------------------- ----- 482.3/568.2 MB 24.3 MB/s eta 0:00:04\n",
      "     ------------------------------- ----- 487.6/568.2 MB 24.3 MB/s eta 0:00:04\n",
      "     -------------------------------- ---- 493.1/568.2 MB 24.3 MB/s eta 0:00:04\n",
      "     -------------------------------- ---- 498.3/568.2 MB 24.4 MB/s eta 0:00:03\n",
      "     -------------------------------- ---- 503.8/568.2 MB 24.3 MB/s eta 0:00:03\n",
      "     --------------------------------- --- 509.3/568.2 MB 24.3 MB/s eta 0:00:03\n",
      "     --------------------------------- --- 514.3/568.2 MB 24.4 MB/s eta 0:00:03\n",
      "     --------------------------------- --- 519.8/568.2 MB 24.4 MB/s eta 0:00:02\n",
      "     ---------------------------------- -- 525.3/568.2 MB 24.4 MB/s eta 0:00:02\n",
      "     ---------------------------------- -- 530.8/568.2 MB 24.4 MB/s eta 0:00:02\n",
      "     ---------------------------------- -- 536.1/568.2 MB 24.4 MB/s eta 0:00:02\n",
      "     ----------------------------------- - 541.3/568.2 MB 24.4 MB/s eta 0:00:02\n",
      "     ----------------------------------- - 546.6/568.2 MB 24.5 MB/s eta 0:00:01\n",
      "     ----------------------------------- - 552.1/568.2 MB 24.6 MB/s eta 0:00:01\n",
      "     ------------------------------------  554.7/568.2 MB 24.8 MB/s eta 0:00:01\n",
      "     ------------------------------------  562.8/568.2 MB 24.9 MB/s eta 0:00:01\n",
      "     ------------------------------------  568.1/568.2 MB 24.9 MB/s eta 0:00:01\n",
      "     ------------------------------------  568.1/568.2 MB 24.9 MB/s eta 0:00:01\n",
      "     ------------------------------------  568.1/568.2 MB 24.9 MB/s eta 0:00:01\n",
      "     ------------------------------------  568.1/568.2 MB 24.9 MB/s eta 0:00:01\n",
      "     ------------------------------------  568.1/568.2 MB 24.9 MB/s eta 0:00:01\n",
      "     ------------------------------------  568.1/568.2 MB 24.9 MB/s eta 0:00:01\n",
      "     ------------------------------------  568.1/568.2 MB 24.9 MB/s eta 0:00:01\n",
      "     ------------------------------------  568.1/568.2 MB 24.9 MB/s eta 0:00:01\n",
      "     ------------------------------------  568.1/568.2 MB 24.9 MB/s eta 0:00:01\n",
      "     ------------------------------------  568.1/568.2 MB 24.9 MB/s eta 0:00:01\n",
      "     ------------------------------------  568.1/568.2 MB 24.9 MB/s eta 0:00:01\n",
      "     ------------------------------------  568.1/568.2 MB 24.9 MB/s eta 0:00:01\n",
      "     ------------------------------------  568.1/568.2 MB 24.9 MB/s eta 0:00:01\n",
      "     ------------------------------------  568.1/568.2 MB 24.9 MB/s eta 0:00:01\n",
      "     ------------------------------------  568.1/568.2 MB 24.9 MB/s eta 0:00:01\n",
      "     ------------------------------------  568.1/568.2 MB 24.9 MB/s eta 0:00:01\n",
      "     ------------------------------------  568.1/568.2 MB 24.9 MB/s eta 0:00:01\n",
      "     ------------------------------------  568.1/568.2 MB 24.9 MB/s eta 0:00:01\n",
      "     ------------------------------------  568.1/568.2 MB 24.9 MB/s eta 0:00:01\n",
      "     ------------------------------------  568.1/568.2 MB 24.9 MB/s eta 0:00:01\n",
      "     ------------------------------------- 568.2/568.2 MB 17.6 MB/s eta 0:00:00\n",
      "Installing collected packages: pt-core-news-lg\n",
      "Successfully installed pt-core-news-lg-3.8.0\n",
      "\u001b[38;5;2m✔ Download and installation successful\u001b[0m\n",
      "You can now load the package via spacy.load('pt_core_news_lg')\n"
     ]
    },
    {
     "name": "stderr",
     "output_type": "stream",
     "text": [
      "\n",
      "[notice] A new release of pip is available: 24.2 -> 25.1.1\n",
      "[notice] To update, run: python.exe -m pip install --upgrade pip\n"
     ]
    }
   ],
   "source": [
    "!python -q -m spacy download pt_core_news_lg"
   ]
  },
  {
   "cell_type": "code",
   "execution_count": 21,
   "id": "fa2e77e1",
   "metadata": {},
   "outputs": [],
   "source": [
    "# Carregando o modelo de português do Spacy (tamanho \"large\")\n",
    "nlp = spacy.load(\"pt_core_news_lg\", disable=[\"parser\", \"ner\"])"
   ]
  },
  {
   "cell_type": "code",
   "execution_count": 18,
   "id": "320957fd",
   "metadata": {},
   "outputs": [],
   "source": [
    "# Carregnado arquivo\n",
    "with open(RAW_DATA_PATH, 'r', encoding='utf-8') as f:\n",
    "    raw_text = f.read()"
   ]
  },
  {
   "cell_type": "code",
   "execution_count": null,
   "id": "81808a23",
   "metadata": {},
   "outputs": [
    {
     "name": "stdout",
     "output_type": "stream",
     "text": [
      "Texto bruto limpo\n"
     ]
    }
   ],
   "source": [
    "# Removendo as quebras de linhas múltiplas\n",
    "texto_processado = re.sub(r'\\n+', '\\n', raw_text).strip()\n",
    "\n",
    "# Otimizando o uso de espaços\n",
    "texto_processado = re.sub(r' +', ' ', texto_processado)\n",
    "print(\"Texto bruto limpo\")"
   ]
  },
  {
   "cell_type": "markdown",
   "id": "cc6a8892",
   "metadata": {},
   "source": [
    "**Estratégia 1:** Quebrar o texto a cada 500 caracteres.\n",
    "\n",
    "* Problema: Isso pode cortar uma frase no meio, destruindo o sentido.\n",
    "\n",
    "**Estratégia 2:** Quebrar o texto por sentenças, usando o SpaCy.\n",
    "\n",
    "* Problema: Para um texto jurídico, uma única sentença pode ser curta demais e não ter o contexto completo de um artigo.\n",
    "\n",
    "**Estratégia 3:** Chunking Estrutural.\n",
    "\n",
    "- Lógica: O próprio documento já nos dá a melhor estrutura: os Artigos (Art. 1º, Art. 2º, etc.) e Capítulos. Cada artigo é uma unidade de pensamento completa."
   ]
  },
  {
   "cell_type": "code",
   "execution_count": 35,
   "id": "50479122",
   "metadata": {},
   "outputs": [],
   "source": [
    "# --- CHUNKING ESTRUTURAL ---\n",
    "# Estabelecer um padrão do inicio de cada artigo com . ou ° e capitulos com numero romano (estrutura da lei)\n",
    "pattern = r'(Art\\.\\s\\d+°?\\.?|CAPÍTULO\\s[IVXLCDM]+)'\n",
    "\n",
    "# Dividir o texto com o pattern\n",
    "parts = re.split(pattern, texto_processado)"
   ]
  },
  {
   "cell_type": "markdown",
   "id": "5fc4b895",
   "metadata": {},
   "source": [
    "Cada chunk é o delimitador como \"Art. 1°\" ou \"Art. 23\" mais o texto que o segue. Iremos alternar entre o texto e o delimitador e reagrupar. A estrutura será gravada em JSON como dicionário durante a execução do script."
   ]
  },
  {
   "cell_type": "code",
   "execution_count": 36,
   "id": "201323aa",
   "metadata": {},
   "outputs": [
    {
     "name": "stdout",
     "output_type": "stream",
     "text": [
      "Texto dividido em 76 chunks estruturados.\n"
     ]
    }
   ],
   "source": [
    "chunks = []\n",
    "for i in range(1, len(parts), 2):\n",
    "    chunk_title = parts[i].strip()\n",
    "    chunk_text = (parts[i] + parts[i+1]).strip()\n",
    "\n",
    "    chunks.append({\n",
    "        'id': len(chunks),\n",
    "        'source': chunk_title,\n",
    "        'text': chunk_text\n",
    "    })\n",
    "\n",
    "print(f\"Texto dividido em {len(chunks)} chunks estruturados.\")"
   ]
  },
  {
   "cell_type": "code",
   "execution_count": 46,
   "id": "16f6cf00",
   "metadata": {},
   "outputs": [
    {
     "name": "stdout",
     "output_type": "stream",
     "text": [
      "Uma pequena amostra dos chunks:\n",
      "\n",
      "{'id': 0, 'source': 'Art. 1', 'text': 'Art. 1ş Esta Lei dispőe sobre o tratamento de dados pessoais, inclusive nos meios digitais, por pessoa natural ou por pessoa jurídica de direito público ou privado, com o objetivo de proteger os direitos fundamentais de liberdade e de privacidade e o livre desenvolvimento da personalidade da pessoa natural. Parágrafo único. As normas gerais contidas nesta Lei săo de interesse \\n\\tnacional e devem ser observadas pela Uniăo, Estados, Distrito Federal e \\n\\tMunicípios.(Incluído pela Lei \\n\\tnş 13.853, de 2019)Vigęncia'}\n",
      "{'id': 24, 'source': 'CAPÍTULO IVD', 'text': 'CAPÍTULO IVDO TRATAMENTO DE DADOS PESSOAIS PELO PODER PÚBLICO Seçăo IDas Regras'}\n",
      "{'id': 41, 'source': 'Art. 37.', 'text': 'Art. 37. O controlador e o operador devem manter registro das operaçőes de tratamento de dados pessoais que realizarem, especialmente quando baseado no legítimo interesse.'}\n"
     ]
    }
   ],
   "source": [
    "print(f\"Uma pequena amostra dos chunks:\\n\\n{chunks[0]}\\n{chunks[24]}\\n{chunks[41]}\")"
   ]
  },
  {
   "cell_type": "markdown",
   "id": "49a7345f",
   "metadata": {},
   "source": [
    "A segunda etapa está concluída. A reestruturação do código será feita para criar um novo script de processamento do texto bruto e criação dos chunks."
   ]
  },
  {
   "cell_type": "markdown",
   "id": "d892c1b9",
   "metadata": {},
   "source": [
    "---\n",
    "\n",
    "### 3. Embeddings e Indexação\n",
    "\n",
    "Converter os chunks de texto em vetores numéricos de alta dimensão e armazená-los em um banco de dados vetorial de alta velocidade (FAISS), ou seja, teremos o \"cérebro\" do assistente: uma representação matemática da LGPD que pode ser pesquisada por significado, não apenas por palavras-chave.\n",
    "\n",
    "**O que são Embeddings de Texto?**\n",
    "\n",
    "➥ Tecnicamente, é um vetor (uma lista) de números (ex: 384 ou 768 números) que captura a essência semântica de um texto.\n",
    "\n",
    "**O que é um Banco de Dados Vetorial?**\n",
    "\n",
    "➥ Um banco de dados vetorial é como um \"bibliotecário\" para vetores. Ele organiza os vetores de forma inteligente para encontrar outros vetores similares."
   ]
  },
  {
   "cell_type": "code",
   "execution_count": null,
   "id": "64ccc742",
   "metadata": {},
   "outputs": [
    {
     "name": "stderr",
     "output_type": "stream",
     "text": [
      "c:\\Users\\Thiag\\OneDrive\\Documentos\\Projetos Python\\lex-lgpd\\.venv\\Lib\\site-packages\\tqdm\\auto.py:21: TqdmWarning: IProgress not found. Please update jupyter and ipywidgets. See https://ipywidgets.readthedocs.io/en/stable/user_install.html\n",
      "  from .autonotebook import tqdm as notebook_tqdm\n"
     ]
    }
   ],
   "source": [
    "from sentence_transformers import SentenceTransformer\n",
    "import numpy as np\n",
    "import faiss"
   ]
  },
  {
   "cell_type": "code",
   "execution_count": 53,
   "id": "62df012b",
   "metadata": {},
   "outputs": [],
   "source": [
    "# Modelo de embeddings\n",
    "model = SentenceTransformer('paraphrase-multilingual-MiniLM-L12-v2')"
   ]
  },
  {
   "cell_type": "code",
   "execution_count": 56,
   "id": "1294f520",
   "metadata": {},
   "outputs": [
    {
     "name": "stdout",
     "output_type": "stream",
     "text": [
      "Quantidade de chunks de texto para processar: 76\n"
     ]
    }
   ],
   "source": [
    "# Extrai os textos para criação dos embeddings\n",
    "texts = [chunk['text'] for chunk in chunks]\n",
    "print(f\"Quantidade de chunks de texto para processar: {len(texts)}\")"
   ]
  },
  {
   "cell_type": "code",
   "execution_count": 55,
   "id": "667ff91d",
   "metadata": {},
   "outputs": [
    {
     "name": "stderr",
     "output_type": "stream",
     "text": [
      "Batches: 100%|██████████| 3/3 [00:05<00:00,  1.98s/it]\n"
     ]
    }
   ],
   "source": [
    "embeddings = model.encode(texts, show_progress_bar=True)"
   ]
  },
  {
   "cell_type": "code",
   "execution_count": 62,
   "id": "14892201",
   "metadata": {},
   "outputs": [
    {
     "name": "stdout",
     "output_type": "stream",
     "text": [
      "Embeddings gerados. Formato do vetor: (76, 384)\n"
     ]
    }
   ],
   "source": [
    "# O FAISS aceita apenas o formato float32, necessário uma conversão\n",
    "embeddings = np.array(embeddings).astype('float32')\n",
    "\n",
    "print(f\"Embeddings gerados. Formato do vetor: {embeddings.shape}\")"
   ]
  },
  {
   "cell_type": "code",
   "execution_count": null,
   "id": "b4f1fc48",
   "metadata": {},
   "outputs": [
    {
     "name": "stdout",
     "output_type": "stream",
     "text": [
      "Índice FAISS criado. Total de vetores no índice: 76\n"
     ]
    }
   ],
   "source": [
    "# Dimensão\n",
    "d = embeddings.shape[1] \n",
    "\n",
    "# Indice\n",
    "index = faiss.IndexFlatL2(d)\n",
    "\n",
    "# Atribuindo o índice aos embeddings\n",
    "index.add(embeddings)\n",
    "\n",
    "print(f\"Índice FAISS criado. Total de vetores no índice: {index.ntotal}\")"
   ]
  }
 ],
 "metadata": {
  "kernelspec": {
   "display_name": ".venv",
   "language": "python",
   "name": "python3"
  },
  "language_info": {
   "codemirror_mode": {
    "name": "ipython",
    "version": 3
   },
   "file_extension": ".py",
   "mimetype": "text/x-python",
   "name": "python",
   "nbconvert_exporter": "python",
   "pygments_lexer": "ipython3",
   "version": "3.12.7"
  }
 },
 "nbformat": 4,
 "nbformat_minor": 5
}
